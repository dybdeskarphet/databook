{
 "cells": [
  {
   "cell_type": "markdown",
   "id": "ee845855",
   "metadata": {},
   "source": [
    "# Movie Analysis"
   ]
  },
  {
   "cell_type": "code",
   "execution_count": 30,
   "id": "218c6550",
   "metadata": {},
   "outputs": [],
   "source": [
    "import os\n",
    "from pathlib import Path\n",
    "import pandas as pd\n",
    "import seaborn as sns\n",
    "import matplotlib.pyplot as plt\n",
    "import matplotlib"
   ]
  },
  {
   "cell_type": "markdown",
   "id": "58945ce0",
   "metadata": {},
   "source": [
    "We create a DataFrame using the [iMDB data](https://www.kaggle.com/code/payamamanat/imdb-movies/input) we found on Kaggle."
   ]
  },
  {
   "cell_type": "code",
   "execution_count": 31,
   "id": "886af2c8",
   "metadata": {},
   "outputs": [],
   "source": [
    "df = pd.read_csv(\"./data/imdb.csv\")"
   ]
  },
  {
   "cell_type": "markdown",
   "id": "b3500b0d",
   "metadata": {},
   "source": [
    "Some columns are not processable since they are string values, so we convert them into numerical data."
   ]
  },
  {
   "cell_type": "code",
   "execution_count": 32,
   "id": "356b2f8d",
   "metadata": {},
   "outputs": [],
   "source": [
    "df[\"duration\"] = df[\"duration\"].str.replace(\" min\", \"\", regex=False).astype(float)\n",
    "df[\"year_start\"] = df[\"year\"].str.extract(r\"(\\d{4})\").fillna(0).astype(int)"
   ]
  },
  {
   "cell_type": "markdown",
   "id": "55fbe418",
   "metadata": {},
   "source": [
    "Also, we create a new column called `decade` so that we will be able to use it for grouping purposes."
   ]
  },
  {
   "cell_type": "code",
   "execution_count": 33,
   "id": "0121e0ef",
   "metadata": {},
   "outputs": [],
   "source": [
    "df = df[~df[\"year_start\"].isin([0])]\n",
    "df[\"decade\"] = (df[\"year_start\"] // 10) * 10"
   ]
  },
  {
   "cell_type": "markdown",
   "id": "a3ee88d4",
   "metadata": {},
   "source": [
    "Now, just to have an image in mind, we create a line plot to see the correlation between movies and the decade they were released."
   ]
  },
  {
   "cell_type": "code",
   "execution_count": 34,
   "id": "5cdd9954",
   "metadata": {},
   "outputs": [
    {
     "data": {
      "image/png": "[encoded data removed]",
      "text/plain": [
       "<Figure size 600x400 with 1 Axes>"
      ]
     },
     "metadata": {},
     "output_type": "display_data"
    }
   ],
   "source": [
    "year_avg = df.groupby(\"decade\")[\"rating\"].mean().reset_index()\n",
    "year_rating_fig, year_rating_ax = plt.subplots(figsize=[6, 4])\n",
    "year_rating_ax.plot(year_avg[\"decade\"], year_avg[\"rating\"])\n",
    "plt.show()"
   ]
  },
  {
   "cell_type": "markdown",
   "id": "58cfdfc8",
   "metadata": {},
   "source": [
    "To analyze more, we check out what column have what kind of value."
   ]
  },
  {
   "cell_type": "code",
   "execution_count": 35,
   "id": "b403d035",
   "metadata": {},
   "outputs": [
    {
     "name": "stdout",
     "output_type": "stream",
     "text": [
      "title           object\n",
      "year            object\n",
      "certificate     object\n",
      "duration       float64\n",
      "genre           object\n",
      "rating         float64\n",
      "description     object\n",
      "stars           object\n",
      "votes           object\n",
      "year_start       int64\n",
      "decade           int64\n",
      "dtype: object\n"
     ]
    }
   ],
   "source": [
    "print(df.dtypes)"
   ]
  },
  {
   "cell_type": "markdown",
   "id": "b621df01",
   "metadata": {},
   "source": [
    "Okay, so we can see that we still have a lot of objects, let's see if we can turn them into numerical or categorical values."
   ]
  },
  {
   "cell_type": "code",
   "execution_count": 36,
   "id": "4c5a4070",
   "metadata": {},
   "outputs": [
    {
     "data": {
      "text/plain": [
       "0       177,031\n",
       "1       199,885\n",
       "2       501,384\n",
       "3         9,773\n",
       "4        15,413\n",
       "         ...   \n",
       "9952      3,130\n",
       "9953    970,067\n",
       "9954    199,898\n",
       "9955    439,601\n",
       "9956      9,786\n",
       "Name: votes, Length: 9326, dtype: object"
      ]
     },
     "execution_count": 36,
     "metadata": {},
     "output_type": "execute_result"
    }
   ],
   "source": [
    "df[\"votes\"]"
   ]
  },
  {
   "cell_type": "markdown",
   "id": "059938d8",
   "metadata": {},
   "source": [
    "We can turn the entire `votes` column to integers."
   ]
  },
  {
   "cell_type": "code",
   "execution_count": 37,
   "id": "73b7e4ea",
   "metadata": {},
   "outputs": [
    {
     "name": "stdout",
     "output_type": "stream",
     "text": [
      "0       177031\n",
      "1       199885\n",
      "2       501384\n",
      "3         9773\n",
      "4        15413\n",
      "         ...  \n",
      "9952      3130\n",
      "9953    970067\n",
      "9954    199898\n",
      "9955    439601\n",
      "9956      9786\n",
      "Name: votes_num, Length: 9326, dtype: int64\n",
      "\n",
      "title           object\n",
      "year            object\n",
      "certificate     object\n",
      "duration       float64\n",
      "genre           object\n",
      "rating         float64\n",
      "description     object\n",
      "stars           object\n",
      "votes           object\n",
      "year_start       int64\n",
      "decade           int64\n",
      "votes_num        int64\n",
      "dtype: object\n"
     ]
    }
   ],
   "source": [
    "df[\"votes_num\"] = df[\"votes\"].str.replace(\",\", \"\").fillna(0).astype(int)\n",
    "print(f\"{df[\"votes_num\"]}\\n\")\n",
    "print(df.dtypes)"
   ]
  },
  {
   "cell_type": "markdown",
   "id": "7f50bc62",
   "metadata": {},
   "source": [
    "Let's see if popularity and the iMDB rating is correlated."
   ]
  },
  {
   "cell_type": "code",
   "execution_count": 38,
   "id": "b452a767",
   "metadata": {},
   "outputs": [
    {
     "data": {
      "text/html": [
       "<div>\n",
       "<style scoped>\n",
       "    .dataframe tbody tr th:only-of-type {\n",
       "        vertical-align: middle;\n",
       "    }\n",
       "\n",
       "    .dataframe tbody tr th {\n",
       "        vertical-align: top;\n",
       "    }\n",
       "\n",
       "    .dataframe thead th {\n",
       "        text-align: right;\n",
       "    }\n",
       "</style>\n",
       "<table border=\"1\" class=\"dataframe\">\n",
       "  <thead>\n",
       "    <tr style=\"text-align: right;\">\n",
       "      <th></th>\n",
       "      <th>rating</th>\n",
       "      <th>votes_num</th>\n",
       "    </tr>\n",
       "  </thead>\n",
       "  <tbody>\n",
       "    <tr>\n",
       "      <th>rating</th>\n",
       "      <td>1.000000</td>\n",
       "      <td>0.142622</td>\n",
       "    </tr>\n",
       "    <tr>\n",
       "      <th>votes_num</th>\n",
       "      <td>0.142622</td>\n",
       "      <td>1.000000</td>\n",
       "    </tr>\n",
       "  </tbody>\n",
       "</table>\n",
       "</div>"
      ],
      "text/plain": [
       "             rating  votes_num\n",
       "rating     1.000000   0.142622\n",
       "votes_num  0.142622   1.000000"
      ]
     },
     "execution_count": 38,
     "metadata": {},
     "output_type": "execute_result"
    }
   ],
   "source": [
    "df[['rating', \"votes_num\"]].corr()"
   ]
  },
  {
   "cell_type": "markdown",
   "id": "02b0710d",
   "metadata": {},
   "source": [
    "So we can roughly say that people will share their opinion even if the movie was great or not. Though we will share our opinion a tiny bit more if the movies was great."
   ]
  },
  {
   "cell_type": "code",
   "execution_count": 42,
   "id": "47ceb7ce",
   "metadata": {},
   "outputs": [
    {
     "data": {
      "text/html": [
       "<div>\n",
       "<style scoped>\n",
       "    .dataframe tbody tr th:only-of-type {\n",
       "        vertical-align: middle;\n",
       "    }\n",
       "\n",
       "    .dataframe tbody tr th {\n",
       "        vertical-align: top;\n",
       "    }\n",
       "\n",
       "    .dataframe thead th {\n",
       "        text-align: right;\n",
       "    }\n",
       "</style>\n",
       "<table border=\"1\" class=\"dataframe\">\n",
       "  <thead>\n",
       "    <tr style=\"text-align: right;\">\n",
       "      <th></th>\n",
       "      <th>title</th>\n",
       "      <th>year</th>\n",
       "      <th>certificate</th>\n",
       "      <th>duration</th>\n",
       "      <th>genre</th>\n",
       "      <th>rating</th>\n",
       "      <th>description</th>\n",
       "      <th>stars</th>\n",
       "      <th>votes</th>\n",
       "      <th>year_start</th>\n",
       "      <th>decade</th>\n",
       "      <th>votes_num</th>\n",
       "    </tr>\n",
       "  </thead>\n",
       "  <tbody>\n",
       "    <tr>\n",
       "      <th>9444</th>\n",
       "      <td>BoJack Horseman</td>\n",
       "      <td>(2014–2020)</td>\n",
       "      <td>TV-MA</td>\n",
       "      <td>26.0</td>\n",
       "      <td>Animation, Comedy, Drama</td>\n",
       "      <td>9.9</td>\n",
       "      <td>BoJack reconnects with faces from his past.</td>\n",
       "      <td>['Amy Winfrey', '| ', '    Stars:', 'Will Arne...</td>\n",
       "      <td>16,066</td>\n",
       "      <td>2014</td>\n",
       "      <td>2010</td>\n",
       "      <td>16066</td>\n",
       "    </tr>\n",
       "    <tr>\n",
       "      <th>17</th>\n",
       "      <td>1899</td>\n",
       "      <td>(2022– )</td>\n",
       "      <td>NaN</td>\n",
       "      <td>60.0</td>\n",
       "      <td>Drama, History, Horror</td>\n",
       "      <td>9.6</td>\n",
       "      <td>Multinational immigrants traveling from the ol...</td>\n",
       "      <td>['Ben Ashenden, ', 'Aneurin Barnard, ', 'Emily...</td>\n",
       "      <td>853</td>\n",
       "      <td>2022</td>\n",
       "      <td>2020</td>\n",
       "      <td>853</td>\n",
       "    </tr>\n",
       "    <tr>\n",
       "      <th>8161</th>\n",
       "      <td>Avatar: The Last Airbender</td>\n",
       "      <td>(2005–2008)</td>\n",
       "      <td>TV-Y7</td>\n",
       "      <td>25.0</td>\n",
       "      <td>Animation, Action, Adventure</td>\n",
       "      <td>9.6</td>\n",
       "      <td>The heroes work together to stop Azula's destr...</td>\n",
       "      <td>['Michael Dante DiMartino', '| ', '    Stars:'...</td>\n",
       "      <td>5,221</td>\n",
       "      <td>2005</td>\n",
       "      <td>2000</td>\n",
       "      <td>5221</td>\n",
       "    </tr>\n",
       "    <tr>\n",
       "      <th>9578</th>\n",
       "      <td>Stranger Things</td>\n",
       "      <td>(2016– )</td>\n",
       "      <td>TV-14</td>\n",
       "      <td>98.0</td>\n",
       "      <td>Drama, Fantasy, Horror</td>\n",
       "      <td>9.6</td>\n",
       "      <td>As Hopper braces to battle a monster, Dustin d...</td>\n",
       "      <td>['Matt Duffer, ', 'Ross Duffer', '| ', '    St...</td>\n",
       "      <td>36,276</td>\n",
       "      <td>2016</td>\n",
       "      <td>2010</td>\n",
       "      <td>36276</td>\n",
       "    </tr>\n",
       "    <tr>\n",
       "      <th>8907</th>\n",
       "      <td>Avatar: The Last Airbender</td>\n",
       "      <td>(2005–2008)</td>\n",
       "      <td>TV-Y7</td>\n",
       "      <td>24.0</td>\n",
       "      <td>Animation, Action, Adventure</td>\n",
       "      <td>9.6</td>\n",
       "      <td>As the Fire Nation continues its assault on th...</td>\n",
       "      <td>['Dave Filoni', '| ', '    Stars:', 'Zach Tyle...</td>\n",
       "      <td>3,953</td>\n",
       "      <td>2005</td>\n",
       "      <td>2000</td>\n",
       "      <td>3953</td>\n",
       "    </tr>\n",
       "    <tr>\n",
       "      <th>8259</th>\n",
       "      <td>Dexter</td>\n",
       "      <td>(2006–2013)</td>\n",
       "      <td>TV-MA</td>\n",
       "      <td>56.0</td>\n",
       "      <td>Crime, Drama, Mystery</td>\n",
       "      <td>9.6</td>\n",
       "      <td>In the Season One finale, Dexter follows the c...</td>\n",
       "      <td>['Michael Cuesta', '| ', '    Stars:', 'Michae...</td>\n",
       "      <td>10,604</td>\n",
       "      <td>2006</td>\n",
       "      <td>2000</td>\n",
       "      <td>10604</td>\n",
       "    </tr>\n",
       "    <tr>\n",
       "      <th>8557</th>\n",
       "      <td>JoJo's Bizarre Adventure</td>\n",
       "      <td>(2012– )</td>\n",
       "      <td>TV-MA</td>\n",
       "      <td>25.0</td>\n",
       "      <td>Animation, Action, Adventure</td>\n",
       "      <td>9.6</td>\n",
       "      <td>In the aftermath of the battle between Risotto...</td>\n",
       "      <td>['Shinshû Fuji, ', 'Kellen Goff, ', 'Katsuyuki...</td>\n",
       "      <td>1,442</td>\n",
       "      <td>2012</td>\n",
       "      <td>2010</td>\n",
       "      <td>1442</td>\n",
       "    </tr>\n",
       "    <tr>\n",
       "      <th>9445</th>\n",
       "      <td>BoJack Horseman</td>\n",
       "      <td>(2014–2020)</td>\n",
       "      <td>TV-MA</td>\n",
       "      <td>27.0</td>\n",
       "      <td>Animation, Comedy, Drama</td>\n",
       "      <td>9.5</td>\n",
       "      <td>A celebration brings people together.</td>\n",
       "      <td>['Aaron Long', '| ', '    Stars:', 'Will Arnet...</td>\n",
       "      <td>6,230</td>\n",
       "      <td>2014</td>\n",
       "      <td>2010</td>\n",
       "      <td>6230</td>\n",
       "    </tr>\n",
       "    <tr>\n",
       "      <th>8044</th>\n",
       "      <td>Avatar: The Last Airbender</td>\n",
       "      <td>(2005–2008)</td>\n",
       "      <td>TV-Y7</td>\n",
       "      <td>25.0</td>\n",
       "      <td>Animation, Action, Adventure</td>\n",
       "      <td>9.5</td>\n",
       "      <td>As Zuko tries to make it by in exile without h...</td>\n",
       "      <td>['Lauren MacMullan', '| ', '    Stars:', 'Dant...</td>\n",
       "      <td>5,383</td>\n",
       "      <td>2005</td>\n",
       "      <td>2000</td>\n",
       "      <td>5383</td>\n",
       "    </tr>\n",
       "    <tr>\n",
       "      <th>9586</th>\n",
       "      <td>Avatar: The Last Airbender</td>\n",
       "      <td>(2005–2008)</td>\n",
       "      <td>TV-Y7</td>\n",
       "      <td>25.0</td>\n",
       "      <td>Animation, Action, Adventure</td>\n",
       "      <td>9.5</td>\n",
       "      <td>Both Aang and Zuko must learn the history of h...</td>\n",
       "      <td>['Ethan Spaulding', '| ', '    Stars:', 'Zach ...</td>\n",
       "      <td>4,740</td>\n",
       "      <td>2005</td>\n",
       "      <td>2000</td>\n",
       "      <td>4740</td>\n",
       "    </tr>\n",
       "  </tbody>\n",
       "</table>\n",
       "</div>"
      ],
      "text/plain": [
       "                           title         year certificate  duration  \\\n",
       "9444             BoJack Horseman  (2014–2020)       TV-MA      26.0   \n",
       "17                          1899     (2022– )         NaN      60.0   \n",
       "8161  Avatar: The Last Airbender  (2005–2008)       TV-Y7      25.0   \n",
       "9578             Stranger Things     (2016– )       TV-14      98.0   \n",
       "8907  Avatar: The Last Airbender  (2005–2008)       TV-Y7      24.0   \n",
       "8259                      Dexter  (2006–2013)       TV-MA      56.0   \n",
       "8557    JoJo's Bizarre Adventure     (2012– )       TV-MA      25.0   \n",
       "9445             BoJack Horseman  (2014–2020)       TV-MA      27.0   \n",
       "8044  Avatar: The Last Airbender  (2005–2008)       TV-Y7      25.0   \n",
       "9586  Avatar: The Last Airbender  (2005–2008)       TV-Y7      25.0   \n",
       "\n",
       "                             genre  rating  \\\n",
       "9444      Animation, Comedy, Drama     9.9   \n",
       "17          Drama, History, Horror     9.6   \n",
       "8161  Animation, Action, Adventure     9.6   \n",
       "9578        Drama, Fantasy, Horror     9.6   \n",
       "8907  Animation, Action, Adventure     9.6   \n",
       "8259         Crime, Drama, Mystery     9.6   \n",
       "8557  Animation, Action, Adventure     9.6   \n",
       "9445      Animation, Comedy, Drama     9.5   \n",
       "8044  Animation, Action, Adventure     9.5   \n",
       "9586  Animation, Action, Adventure     9.5   \n",
       "\n",
       "                                            description  \\\n",
       "9444        BoJack reconnects with faces from his past.   \n",
       "17    Multinational immigrants traveling from the ol...   \n",
       "8161  The heroes work together to stop Azula's destr...   \n",
       "9578  As Hopper braces to battle a monster, Dustin d...   \n",
       "8907  As the Fire Nation continues its assault on th...   \n",
       "8259  In the Season One finale, Dexter follows the c...   \n",
       "8557  In the aftermath of the battle between Risotto...   \n",
       "9445              A celebration brings people together.   \n",
       "8044  As Zuko tries to make it by in exile without h...   \n",
       "9586  Both Aang and Zuko must learn the history of h...   \n",
       "\n",
       "                                                  stars   votes  year_start  \\\n",
       "9444  ['Amy Winfrey', '| ', '    Stars:', 'Will Arne...  16,066        2014   \n",
       "17    ['Ben Ashenden, ', 'Aneurin Barnard, ', 'Emily...     853        2022   \n",
       "8161  ['Michael Dante DiMartino', '| ', '    Stars:'...   5,221        2005   \n",
       "9578  ['Matt Duffer, ', 'Ross Duffer', '| ', '    St...  36,276        2016   \n",
       "8907  ['Dave Filoni', '| ', '    Stars:', 'Zach Tyle...   3,953        2005   \n",
       "8259  ['Michael Cuesta', '| ', '    Stars:', 'Michae...  10,604        2006   \n",
       "8557  ['Shinshû Fuji, ', 'Kellen Goff, ', 'Katsuyuki...   1,442        2012   \n",
       "9445  ['Aaron Long', '| ', '    Stars:', 'Will Arnet...   6,230        2014   \n",
       "8044  ['Lauren MacMullan', '| ', '    Stars:', 'Dant...   5,383        2005   \n",
       "9586  ['Ethan Spaulding', '| ', '    Stars:', 'Zach ...   4,740        2005   \n",
       "\n",
       "      decade  votes_num  \n",
       "9444    2010      16066  \n",
       "17      2020        853  \n",
       "8161    2000       5221  \n",
       "9578    2010      36276  \n",
       "8907    2000       3953  \n",
       "8259    2000      10604  \n",
       "8557    2010       1442  \n",
       "9445    2010       6230  \n",
       "8044    2000       5383  \n",
       "9586    2000       4740  "
      ]
     },
     "execution_count": 42,
     "metadata": {},
     "output_type": "execute_result"
    }
   ],
   "source": [
    "df.sort_values([\"rating\", \"votes\"], ascending=[False, False]).head(10)"
   ]
  },
  {
   "cell_type": "markdown",
   "id": "d2cbb5e1",
   "metadata": {},
   "source": [
    "We can see that movies with very low votes also pops up in our Top 10 chart. We have to solve that."
   ]
  }
 ],
 "metadata": {
  "kernelspec": {
   "display_name": ".venv",
   "language": "python",
   "name": "python3"
  },
  "language_info": {
   "codemirror_mode": {
    "name": "ipython",
    "version": 3
   },
   "file_extension": ".py",
   "mimetype": "text/x-python",
   "name": "python",
   "nbconvert_exporter": "python",
   "pygments_lexer": "ipython3",
   "version": "3.13.7"
  }
 },
 "nbformat": 4,
 "nbformat_minor": 5
}
