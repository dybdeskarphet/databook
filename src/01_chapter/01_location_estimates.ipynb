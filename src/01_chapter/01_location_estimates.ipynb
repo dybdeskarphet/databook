{
 "cells": [
  {
   "cell_type": "markdown",
   "id": "8fb06968",
   "metadata": {},
   "source": [
    "# Example: Location Estimates of Population and Murder Rates"
   ]
  },
  {
   "cell_type": "code",
   "execution_count": 8,
   "id": "ea3fd81d",
   "metadata": {},
   "outputs": [],
   "source": [
    "from scipy.stats import trim_mean\n",
    "import pandas as pd\n",
    "import numpy as np\n",
    "import wquantiles"
   ]
  },
  {
   "cell_type": "code",
   "execution_count": 9,
   "id": "2872620a",
   "metadata": {},
   "outputs": [
    {
     "data": {
      "text/html": [
       "<div>\n",
       "<style scoped>\n",
       "    .dataframe tbody tr th:only-of-type {\n",
       "        vertical-align: middle;\n",
       "    }\n",
       "\n",
       "    .dataframe tbody tr th {\n",
       "        vertical-align: top;\n",
       "    }\n",
       "\n",
       "    .dataframe thead th {\n",
       "        text-align: right;\n",
       "    }\n",
       "</style>\n",
       "<table border=\"1\" class=\"dataframe\">\n",
       "  <thead>\n",
       "    <tr style=\"text-align: right;\">\n",
       "      <th></th>\n",
       "      <th>State</th>\n",
       "      <th>Population</th>\n",
       "      <th>Murder.Rate</th>\n",
       "      <th>Abbreviation</th>\n",
       "    </tr>\n",
       "  </thead>\n",
       "  <tbody>\n",
       "    <tr>\n",
       "      <th>4</th>\n",
       "      <td>California</td>\n",
       "      <td>37253956</td>\n",
       "      <td>4.4</td>\n",
       "      <td>CA</td>\n",
       "    </tr>\n",
       "    <tr>\n",
       "      <th>42</th>\n",
       "      <td>Texas</td>\n",
       "      <td>25145561</td>\n",
       "      <td>4.4</td>\n",
       "      <td>TX</td>\n",
       "    </tr>\n",
       "    <tr>\n",
       "      <th>31</th>\n",
       "      <td>New York</td>\n",
       "      <td>19378102</td>\n",
       "      <td>3.1</td>\n",
       "      <td>NY</td>\n",
       "    </tr>\n",
       "    <tr>\n",
       "      <th>8</th>\n",
       "      <td>Florida</td>\n",
       "      <td>18801310</td>\n",
       "      <td>5.8</td>\n",
       "      <td>FL</td>\n",
       "    </tr>\n",
       "    <tr>\n",
       "      <th>12</th>\n",
       "      <td>Illinois</td>\n",
       "      <td>12830632</td>\n",
       "      <td>5.3</td>\n",
       "      <td>IL</td>\n",
       "    </tr>\n",
       "    <tr>\n",
       "      <th>37</th>\n",
       "      <td>Pennsylvania</td>\n",
       "      <td>12702379</td>\n",
       "      <td>4.8</td>\n",
       "      <td>PA</td>\n",
       "    </tr>\n",
       "    <tr>\n",
       "      <th>34</th>\n",
       "      <td>Ohio</td>\n",
       "      <td>11536504</td>\n",
       "      <td>4.0</td>\n",
       "      <td>OH</td>\n",
       "    </tr>\n",
       "    <tr>\n",
       "      <th>21</th>\n",
       "      <td>Michigan</td>\n",
       "      <td>9883640</td>\n",
       "      <td>5.4</td>\n",
       "      <td>MI</td>\n",
       "    </tr>\n",
       "    <tr>\n",
       "      <th>9</th>\n",
       "      <td>Georgia</td>\n",
       "      <td>9687653</td>\n",
       "      <td>5.7</td>\n",
       "      <td>GA</td>\n",
       "    </tr>\n",
       "    <tr>\n",
       "      <th>32</th>\n",
       "      <td>North Carolina</td>\n",
       "      <td>9535483</td>\n",
       "      <td>5.1</td>\n",
       "      <td>NC</td>\n",
       "    </tr>\n",
       "  </tbody>\n",
       "</table>\n",
       "</div>"
      ],
      "text/plain": [
       "             State  Population  Murder.Rate Abbreviation\n",
       "4       California    37253956          4.4           CA\n",
       "42           Texas    25145561          4.4           TX\n",
       "31        New York    19378102          3.1           NY\n",
       "8          Florida    18801310          5.8           FL\n",
       "12        Illinois    12830632          5.3           IL\n",
       "37    Pennsylvania    12702379          4.8           PA\n",
       "34            Ohio    11536504          4.0           OH\n",
       "21        Michigan     9883640          5.4           MI\n",
       "9          Georgia     9687653          5.7           GA\n",
       "32  North Carolina     9535483          5.1           NC"
      ]
     },
     "execution_count": 9,
     "metadata": {},
     "output_type": "execute_result"
    }
   ],
   "source": [
    "state = pd.read_csv('../data/state.csv')\n",
    "state.sort_values(\"Population\", ascending=False).head(10)"
   ]
  },
  {
   "cell_type": "code",
   "execution_count": 10,
   "id": "4432bce5",
   "metadata": {},
   "outputs": [
    {
     "data": {
      "text/plain": [
       "np.float64(4783697.125)"
      ]
     },
     "execution_count": 10,
     "metadata": {},
     "output_type": "execute_result"
    }
   ],
   "source": [
    "trim_mean(state[\"Population\"], 0.1)"
   ]
  },
  {
   "cell_type": "code",
   "execution_count": 11,
   "id": "3384da6f",
   "metadata": {},
   "outputs": [
    {
     "data": {
      "text/plain": [
       "np.float64(4436369.5)"
      ]
     },
     "execution_count": 11,
     "metadata": {},
     "output_type": "execute_result"
    }
   ],
   "source": [
    "state[\"Population\"].median()"
   ]
  },
  {
   "cell_type": "code",
   "execution_count": 12,
   "id": "0778112c",
   "metadata": {},
   "outputs": [
    {
     "data": {
      "text/plain": [
       "np.float64(4.445833981123393)"
      ]
     },
     "execution_count": 12,
     "metadata": {},
     "output_type": "execute_result"
    }
   ],
   "source": [
    "np.average(state[\"Murder.Rate\"], weights=state[\"Population\"])"
   ]
  },
  {
   "cell_type": "markdown",
   "id": "ce97f844",
   "metadata": {},
   "source": [
    "- By using the weighted mean, we are actually answering the question, “If we had chosen a random residential area in the US, what would the murder rate be there?”\n",
    "- If we had only taken the mean of `state[\"Murder.Rate\"]`, for exapmle, we would have treated Alaska and California as regions with the same population."
   ]
  },
  {
   "cell_type": "code",
   "execution_count": 13,
   "id": "970fb33c",
   "metadata": {},
   "outputs": [
    {
     "data": {
      "text/plain": [
       "np.float64(4.4)"
      ]
     },
     "execution_count": 13,
     "metadata": {},
     "output_type": "execute_result"
    }
   ],
   "source": [
    "wquantiles.median(state[\"Murder.Rate\"], weights=state[\"Population\"])"
   ]
  },
  {
   "cell_type": "markdown",
   "id": "3b070ac9",
   "metadata": {},
   "source": [
    "In this context, median means that half of the Americans live in states with murder rates below this value. However, since we used the `Population` feature as a weight, result is more accurate and avoids the mistake mentioned above."
   ]
  }
 ],
 "metadata": {
  "kernelspec": {
   "display_name": ".venv",
   "language": "python",
   "name": "python3"
  },
  "language_info": {
   "codemirror_mode": {
    "name": "ipython",
    "version": 3
   },
   "file_extension": ".py",
   "mimetype": "text/x-python",
   "name": "python",
   "nbconvert_exporter": "python",
   "pygments_lexer": "ipython3",
   "version": "3.13.7"
  }
 },
 "nbformat": 4,
 "nbformat_minor": 5
}
